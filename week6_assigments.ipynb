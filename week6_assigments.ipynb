{
  "nbformat": 4,
  "nbformat_minor": 0,
  "metadata": {
    "colab": {
      "provenance": [],
      "authorship_tag": "ABX9TyOjELuWjrYSH77jsYKLLnhT",
      "include_colab_link": true
    },
    "kernelspec": {
      "name": "python3",
      "display_name": "Python 3"
    },
    "language_info": {
      "name": "python"
    }
  },
  "cells": [
    {
      "cell_type": "markdown",
      "metadata": {
        "id": "view-in-github",
        "colab_type": "text"
      },
      "source": [
        "<a href=\"https://colab.research.google.com/github/tasdendu/week6_assignments/blob/main/week6_assigments.ipynb\" target=\"_parent\"><img src=\"https://colab.research.google.com/assets/colab-badge.svg\" alt=\"Open In Colab\"/></a>"
      ]
    },
    {
      "cell_type": "markdown",
      "source": [
        "# Assignment 1\n",
        "A cinema gives discounts based on age\n",
        "- Children below 12 years pay 300\n",
        "- Teens between 12 - 17 pays 500\n",
        "- Adults (18 - 59) pays 800\n",
        "- Seniors (60+) pays 400\n",
        "\n",
        "Write a python program that:\n",
        "1. Asks the user to enter their age\n",
        "2. Uses an if statement to decide the ticket price\n",
        "3. Prints `Your ticket price is xxx` where xxx is the amount.\n",
        "\n",
        "### Extra challenge\n",
        "- Add another condition: If today is Wednesday, everyone get a 100 off.\n"
      ],
      "metadata": {
        "id": "V3TZh7bBo_0x"
      }
    },
    {
      "cell_type": "code",
      "execution_count": 2,
      "metadata": {
        "colab": {
          "base_uri": "https://localhost:8080/"
        },
        "id": "na_4BeVio4mp",
        "outputId": "cd655c04-8c0d-4544-b4df-8b498a304036"
      },
      "outputs": [
        {
          "output_type": "stream",
          "name": "stdout",
          "text": [
            "What is your age? 35\n",
            "Sunday\n",
            "Your ticket price is 800\n"
          ]
        }
      ],
      "source": [
        "# Assignment 1\n",
        "from datetime import datetime\n",
        "\n",
        "age = int(input('What is your age? '))\n",
        "price = 0\n",
        "\n",
        "if age <= 12:\n",
        "  price = 300\n",
        "elif age <= 17:\n",
        "  price = 500\n",
        "elif age <= 59:\n",
        "  price = 800\n",
        "else:\n",
        "  price = 400\n",
        "\n",
        "today = datetime.now()\n",
        "print(today.strftime(\"%A\"))\n",
        "if today.strftime(\"%A\") == 'Wednesday':\n",
        "  price -= 100\n",
        "\n",
        "print(f\"Your ticket price is {price}\")"
      ]
    },
    {
      "cell_type": "markdown",
      "source": [
        "# Assignment 2: Number Guessing Game\n",
        "Write a python program that:\n",
        "1. Picks a secret number (e.g: 7).\n",
        "2. Asks the user to guiess the number\n",
        "3. Keep asking until the user gueses correctly. (Using a while loop)\n",
        "4. Print `Congratulations! You guessed correctly` when correct"
      ],
      "metadata": {
        "id": "AeDyJJgFpUAR"
      }
    },
    {
      "cell_type": "code",
      "source": [
        "# Assignment 2\n",
        "secret = 7\n",
        "pick = 0\n",
        "while pick != secret:\n",
        "  pick = int(input('Guiess a number: '))\n",
        "\n",
        "if pick == secret:\n",
        "  print('Congratulations! You guessed correctly.')"
      ],
      "metadata": {
        "colab": {
          "base_uri": "https://localhost:8080/"
        },
        "id": "qgLfddkrpJzA",
        "outputId": "7d7081d1-5484-4d9e-8f8a-19c766e49ad7"
      },
      "execution_count": 4,
      "outputs": [
        {
          "output_type": "stream",
          "name": "stdout",
          "text": [
            "Guiess a number: 1\n",
            "Guiess a number: 2\n",
            "Guiess a number: 5\n",
            "Guiess a number: 6\n",
            "Guiess a number: 7\n",
            "Congratulations! You guessed correctly.\n"
          ]
        }
      ]
    },
    {
      "cell_type": "markdown",
      "source": [
        "# Assignment 3:\n",
        "- Go and research and practice how to use these in functions\n",
        "1. Keyward arguments\n",
        "2. Variable Number of Arguments\n",
        "3. *args and **kwargs\n"
      ],
      "metadata": {
        "id": "BAY4lzN-pkvp"
      }
    },
    {
      "cell_type": "code",
      "source": [
        "# 1. Keyward arguments\n",
        "def greetk(name, msg):\n",
        "  print(\"Hello\", name, msg)\n",
        "\n",
        "# 2. Variable Number of Arguments\n",
        "def greetv(*names):\n",
        "  for name in names:\n",
        "    print(\"Hello\", name)\n",
        "\n",
        "# 3. *args and **kwargs\n",
        "def greetag(*names, **msgs):\n",
        "  for name in names:\n",
        "    for msg in msgs:\n",
        "      print(\"Hello\", name, msgs[msg])\n",
        "\n",
        "# Call Keyword arguments\n",
        "greetk(name = 'Tashi', msg = 'Welcome to python')\n",
        "\n",
        "# Call Variable Number of Arguments function\n",
        "greetv('Tashi', 'John', 'Peter')\n",
        "\n",
        "# Call *args and **kwargs function\n",
        "greetag('Tashi', 'John', 'Peter', msg1 = 'Welcome to python', msg2 = 'Have a nice day')"
      ],
      "metadata": {
        "colab": {
          "base_uri": "https://localhost:8080/"
        },
        "id": "5Iw4HK9dpaq5",
        "outputId": "1f6324ee-31f7-4862-f475-31968dcb27a2"
      },
      "execution_count": 8,
      "outputs": [
        {
          "output_type": "stream",
          "name": "stdout",
          "text": [
            "Hello Tashi Welcome to python\n",
            "Hello Tashi\n",
            "Hello John\n",
            "Hello Peter\n",
            "Hello Tashi Welcome to python\n",
            "Hello Tashi Have a nice day\n",
            "Hello John Welcome to python\n",
            "Hello John Have a nice day\n",
            "Hello Peter Welcome to python\n",
            "Hello Peter Have a nice day\n"
          ]
        }
      ]
    },
    {
      "cell_type": "markdown",
      "source": [
        "# Assigment 4\n",
        "## Student Grade Calculator\n",
        "Write a python program that will:\n",
        "1. Define a function called `calculate_grade(marks)` that:\n",
        "  - Takes marks (0-100) as input\n",
        "  - Returns the grade based on this scale\n",
        "    - 90-100 --> A\n",
        "    - 80-89 --> B\n",
        "    - 70-79 --> C\n",
        "    - 60-69 --> D\n",
        "    - Below 60 --> Failed\n",
        "\n",
        "2. Ask the user to enter their marks\n",
        "3. Call the function and print\n",
        "  `Your grade is: X`"
      ],
      "metadata": {
        "id": "jCmmV3fhpvNY"
      }
    },
    {
      "cell_type": "code",
      "source": [
        "# Assigment\n",
        "def calculate_grade(marks):\n",
        "  if marks >= 90 and marks <= 100:\n",
        "    return 'A'\n",
        "  elif marks >= 80 and marks <= 89:\n",
        "    return 'B'\n",
        "  elif marks >= 70 and marks <= 79:\n",
        "    return 'C'\n",
        "  elif marks >= 60 and marks <= 69:\n",
        "    return 'D'\n",
        "  else:\n",
        "    return 'Failed'\n",
        "mark = int(input('Enter your marks: '))\n",
        "print('Your grade is: ', calculate_grade(mark))"
      ],
      "metadata": {
        "colab": {
          "base_uri": "https://localhost:8080/"
        },
        "id": "leV4nyenposf",
        "outputId": "9c5dba29-dd18-4bd6-84ba-efa6c1b805f9"
      },
      "execution_count": 7,
      "outputs": [
        {
          "output_type": "stream",
          "name": "stdout",
          "text": [
            "Enter your marks: 69\n",
            "Your grade is:  D\n"
          ]
        }
      ]
    },
    {
      "cell_type": "code",
      "source": [],
      "metadata": {
        "id": "-KazCJnEp1nu"
      },
      "execution_count": null,
      "outputs": []
    }
  ]
}